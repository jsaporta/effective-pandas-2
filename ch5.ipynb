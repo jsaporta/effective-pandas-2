{
 "cells": [
  {
   "cell_type": "markdown",
   "id": "c0105abc-6923-484e-bb0b-a4e3542df58e",
   "metadata": {},
   "source": [
    "# Chapter 5"
   ]
  },
  {
   "cell_type": "markdown",
   "id": "dcbd5d38-bb94-4520-b457-6dfa3f1bac3e",
   "metadata": {},
   "source": [
    "Properties of NumPy-backed `DataFrame`s:\n",
    "- Automatic type conversion to Python `int` when dealing with large integers\n",
    "- Automatic type conversion to `float64` when `NaN` values appear\n",
    "- Conversion to \"smaller\" types is possible; overflows will happen without warning\n",
    "\n",
    "Properties of PyArrow-backed `DataFrame`s:\n",
    "- No automatic type conversions for large integers; an error is thrown instead\n",
    "- No automatic overflows will happen when converting to smaller types; an error is thrown if one would occur\n",
    "- Integer types can handle `<NA>` values"
   ]
  }
 ],
 "metadata": {
  "kernelspec": {
   "display_name": "Python 3 (ipykernel)",
   "language": "python",
   "name": "python3"
  },
  "language_info": {
   "codemirror_mode": {
    "name": "ipython",
    "version": 3
   },
   "file_extension": ".py",
   "mimetype": "text/x-python",
   "name": "python",
   "nbconvert_exporter": "python",
   "pygments_lexer": "ipython3",
   "version": "3.12.2"
  }
 },
 "nbformat": 4,
 "nbformat_minor": 5
}
