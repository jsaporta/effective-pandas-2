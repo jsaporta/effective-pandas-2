{
 "cells": [
  {
   "cell_type": "markdown",
   "id": "36cf6180-008f-4410-9b4c-ba4982742fbd",
   "metadata": {},
   "source": [
    "# Chapter 7"
   ]
  },
  {
   "cell_type": "code",
   "execution_count": 1,
   "id": "b5ee520d-ac6d-4128-8a4c-a50929b58c09",
   "metadata": {},
   "outputs": [],
   "source": [
    "import pandas as pd\n",
    "\n",
    "url = \"https://github.com/mattharrison/datasets/raw/master/data/vehicles.csv.zip\"\n",
    "df = pd.read_csv(url, dtype_backend=\"pyarrow\", engine=\"pyarrow\")\n",
    "\n",
    "city_mpg = df.city08\n",
    "highway_mpg = df.highway08"
   ]
  },
  {
   "cell_type": "code",
   "execution_count": 2,
   "id": "39261633-4400-4132-a31f-aad43b3e32c8",
   "metadata": {},
   "outputs": [
    {
     "data": {
      "text/plain": [
       "0        19\n",
       "1         9\n",
       "2        23\n",
       "3        10\n",
       "4        17\n",
       "         ..\n",
       "41139    19\n",
       "41140    20\n",
       "41141    18\n",
       "41142    18\n",
       "41143    16\n",
       "Name: city08, Length: 41144, dtype: int64[pyarrow]"
      ]
     },
     "execution_count": 2,
     "metadata": {},
     "output_type": "execute_result"
    }
   ],
   "source": [
    "city_mpg"
   ]
  },
  {
   "cell_type": "code",
   "execution_count": 3,
   "id": "c9ec0f75-01ea-4308-bbf2-242b7d3de1d0",
   "metadata": {},
   "outputs": [
    {
     "data": {
      "text/plain": [
       "0        25\n",
       "1        14\n",
       "2        33\n",
       "3        12\n",
       "4        23\n",
       "         ..\n",
       "41139    26\n",
       "41140    28\n",
       "41141    24\n",
       "41142    24\n",
       "41143    21\n",
       "Name: highway08, Length: 41144, dtype: int64[pyarrow]"
      ]
     },
     "execution_count": 3,
     "metadata": {},
     "output_type": "execute_result"
    }
   ],
   "source": [
    "highway_mpg"
   ]
  },
  {
   "cell_type": "markdown",
   "id": "301ede56-9718-4214-9067-b6ce852600be",
   "metadata": {},
   "source": [
    "## Exercises"
   ]
  },
  {
   "cell_type": "code",
   "execution_count": 4,
   "id": "98e846df-eda3-4f55-9e53-1e3914c7007f",
   "metadata": {},
   "outputs": [
    {
     "data": {
      "text/plain": [
       "\u001b[31mType:\u001b[39m        property\n",
       "\u001b[31mString form:\u001b[39m <property object at 0x7ca274f17600>\n",
       "\u001b[31mDocstring:\u001b[39m  \n",
       "Return the number of elements in the underlying data.\n",
       "\n",
       "Examples\n",
       "--------\n",
       "For Series:\n",
       "\n",
       ">>> s = pd.Series(['Ant', 'Bear', 'Cow'])\n",
       ">>> s\n",
       "0     Ant\n",
       "1    Bear\n",
       "2     Cow\n",
       "dtype: object\n",
       ">>> s.size\n",
       "3\n",
       "\n",
       "For Index:\n",
       "\n",
       ">>> idx = pd.Index([1, 2, 3])\n",
       ">>> idx\n",
       "Index([1, 2, 3], dtype='int64')\n",
       ">>> idx.size\n",
       "3"
      ]
     },
     "metadata": {},
     "output_type": "display_data"
    }
   ],
   "source": [
    "# 1. Documentation can be accessed using the ? operator in Jupyter notebooks:\n",
    "city_mpg.size?"
   ]
  },
  {
   "cell_type": "code",
   "execution_count": 5,
   "id": "cd987d0a-d734-4ea9-afff-982c248d071e",
   "metadata": {},
   "outputs": [
    {
     "data": {
      "text/plain": [
       "\u001b[31mType:\u001b[39m        property\n",
       "\u001b[31mString form:\u001b[39m <property object at 0x7ca274f176f0>\n",
       "\u001b[31mDocstring:\u001b[39m  \n",
       "Return boolean if values in the object are monotonically increasing.\n",
       "\n",
       "Returns\n",
       "-------\n",
       "bool\n",
       "\n",
       "Examples\n",
       "--------\n",
       ">>> s = pd.Series([1, 2, 2])\n",
       ">>> s.is_monotonic_increasing\n",
       "True\n",
       "\n",
       ">>> s = pd.Series([3, 2, 1])\n",
       ">>> s.is_monotonic_increasing\n",
       "False"
      ]
     },
     "metadata": {},
     "output_type": "display_data"
    }
   ],
   "source": [
    "city_mpg.is_monotonic_increasing?"
   ]
  },
  {
   "cell_type": "code",
   "execution_count": 6,
   "id": "8d217a84-0400-4cdb-920a-4b1e28706da2",
   "metadata": {},
   "outputs": [
    {
     "data": {
      "text/plain": [
       "\u001b[31mType:\u001b[39m        property\n",
       "\u001b[31mString form:\u001b[39m <property object at 0x7ca274825e90>\n",
       "\u001b[31mDocstring:\u001b[39m   Return a list of the row axis labels."
      ]
     },
     "metadata": {},
     "output_type": "display_data"
    }
   ],
   "source": [
    "city_mpg.axes?"
   ]
  },
  {
   "cell_type": "code",
   "execution_count": 7,
   "id": "8628f5d4-12e4-47e5-9191-85f90eca4f16",
   "metadata": {},
   "outputs": [
    {
     "data": {
      "text/plain": [
       "\u001b[31mType:\u001b[39m        property\n",
       "\u001b[31mString form:\u001b[39m <property object at 0x7ca274825c10>\n",
       "\u001b[31mDocstring:\u001b[39m  \n",
       "Return the dtype object of the underlying data.\n",
       "\n",
       "Examples\n",
       "--------\n",
       ">>> s = pd.Series([1, 2, 3])\n",
       ">>> s.dtype\n",
       "dtype('int64')"
      ]
     },
     "metadata": {},
     "output_type": "display_data"
    }
   ],
   "source": [
    "city_mpg.dtype?"
   ]
  },
  {
   "cell_type": "code",
   "execution_count": 8,
   "id": "350cbaeb-ae5b-4a1c-bac2-cf6a858b43b9",
   "metadata": {},
   "outputs": [
    {
     "data": {
      "text/plain": [
       "\u001b[31mType:\u001b[39m        property\n",
       "\u001b[31mString form:\u001b[39m <property object at 0x7ca274f16fc0>\n",
       "\u001b[31mDocstring:\u001b[39m  \n",
       "Return the transpose, which is by definition self.\n",
       "\n",
       "Examples\n",
       "--------\n",
       "For Series:\n",
       "\n",
       ">>> s = pd.Series(['Ant', 'Bear', 'Cow'])\n",
       ">>> s\n",
       "0     Ant\n",
       "1    Bear\n",
       "2     Cow\n",
       "dtype: object\n",
       ">>> s.T\n",
       "0     Ant\n",
       "1    Bear\n",
       "2     Cow\n",
       "dtype: object\n",
       "\n",
       "For Index:\n",
       "\n",
       ">>> idx = pd.Index([1, 2, 3])\n",
       ">>> idx.T\n",
       "Index([1, 2, 3], dtype='int64')"
      ]
     },
     "metadata": {},
     "output_type": "display_data"
    }
   ],
   "source": [
    "city_mpg.T?"
   ]
  },
  {
   "cell_type": "code",
   "execution_count": 9,
   "id": "61834786-6b3a-44ce-8d1f-3f95c7c7e979",
   "metadata": {},
   "outputs": [
    {
     "data": {
      "text/plain": [
       "102"
      ]
     },
     "execution_count": 9,
     "metadata": {},
     "output_type": "execute_result"
    }
   ],
   "source": [
    "# 2.\n",
    "import pyarrow as pa\n",
    "\n",
    "s = pd.Series([\"hi\", \"bye\"], dtype=pd.ArrowDtype(pa.string()))\n",
    "len(dir(s.str))"
   ]
  },
  {
   "cell_type": "code",
   "execution_count": 10,
   "id": "70a113a9-c5c2-4125-92c5-39a575018893",
   "metadata": {},
   "outputs": [
    {
     "data": {
      "text/plain": [
       "\u001b[31mSignature:\u001b[39m s.str.casefold()\n",
       "\u001b[31mDocstring:\u001b[39m\n",
       "Convert strings in the Series/Index to be casefolded.\n",
       "\n",
       "Equivalent to :meth:`str.casefold`.\n",
       "\n",
       "Returns\n",
       "-------\n",
       "Series or Index of object\n",
       "\n",
       "See Also\n",
       "--------\n",
       "Series.str.lower : Converts all characters to lowercase.\n",
       "Series.str.upper : Converts all characters to uppercase.\n",
       "Series.str.title : Converts first character of each word to uppercase and\n",
       "    remaining to lowercase.\n",
       "Series.str.capitalize : Converts first character to uppercase and\n",
       "    remaining to lowercase.\n",
       "Series.str.swapcase : Converts uppercase to lowercase and lowercase to\n",
       "    uppercase.\n",
       "Series.str.casefold: Removes all case distinctions in the string.\n",
       "\n",
       "Examples\n",
       "--------\n",
       ">>> s = pd.Series(['lower', 'CAPITALS', 'this is a sentence', 'SwApCaSe'])\n",
       ">>> s\n",
       "0                 lower\n",
       "1              CAPITALS\n",
       "2    this is a sentence\n",
       "3              SwApCaSe\n",
       "dtype: object\n",
       "\n",
       ">>> s.str.lower()\n",
       "0                 lower\n",
       "1              capitals\n",
       "2    this is a sentence\n",
       "3              swapcase\n",
       "dtype: object\n",
       "\n",
       ">>> s.str.upper()\n",
       "0                 LOWER\n",
       "1              CAPITALS\n",
       "2    THIS IS A SENTENCE\n",
       "3              SWAPCASE\n",
       "dtype: object\n",
       "\n",
       ">>> s.str.title()\n",
       "0                 Lower\n",
       "1              Capitals\n",
       "2    This Is A Sentence\n",
       "3              Swapcase\n",
       "dtype: object\n",
       "\n",
       ">>> s.str.capitalize()\n",
       "0                 Lower\n",
       "1              Capitals\n",
       "2    This is a sentence\n",
       "3              Swapcase\n",
       "dtype: object\n",
       "\n",
       ">>> s.str.swapcase()\n",
       "0                 LOWER\n",
       "1              capitals\n",
       "2    THIS IS A SENTENCE\n",
       "3              sWaPcAsE\n",
       "dtype: object\n",
       "\u001b[31mFile:\u001b[39m      ~/Documents/proj/effective-pandas-2/pandas-env/lib/python3.13/site-packages/pandas/core/strings/accessor.py\n",
       "\u001b[31mType:\u001b[39m      method"
      ]
     },
     "metadata": {},
     "output_type": "display_data"
    }
   ],
   "source": [
    "s.str.casefold?"
   ]
  },
  {
   "cell_type": "code",
   "execution_count": 11,
   "id": "71406d6c-d4b9-49e2-82df-445329247c3b",
   "metadata": {},
   "outputs": [
    {
     "data": {
      "text/plain": [
       "\u001b[31mSignature:\u001b[39m s.str.join(sep: \u001b[33m'str'\u001b[39m)\n",
       "\u001b[31mDocstring:\u001b[39m\n",
       "Join lists contained as elements in the Series/Index with passed delimiter.\n",
       "\n",
       "If the elements of a Series are lists themselves, join the content of these\n",
       "lists using the delimiter passed to the function.\n",
       "This function is an equivalent to :meth:`str.join`.\n",
       "\n",
       "Parameters\n",
       "----------\n",
       "sep : str\n",
       "    Delimiter to use between list entries.\n",
       "\n",
       "Returns\n",
       "-------\n",
       "Series/Index: object\n",
       "    The list entries concatenated by intervening occurrences of the\n",
       "    delimiter.\n",
       "\n",
       "Raises\n",
       "------\n",
       "AttributeError\n",
       "    If the supplied Series contains neither strings nor lists.\n",
       "\n",
       "See Also\n",
       "--------\n",
       "str.join : Standard library version of this method.\n",
       "Series.str.split : Split strings around given separator/delimiter.\n",
       "\n",
       "Notes\n",
       "-----\n",
       "If any of the list items is not a string object, the result of the join\n",
       "will be `NaN`.\n",
       "\n",
       "Examples\n",
       "--------\n",
       "Example with a list that contains non-string elements.\n",
       "\n",
       ">>> s = pd.Series([['lion', 'elephant', 'zebra'],\n",
       "...                [1.1, 2.2, 3.3],\n",
       "...                ['cat', np.nan, 'dog'],\n",
       "...                ['cow', 4.5, 'goat'],\n",
       "...                ['duck', ['swan', 'fish'], 'guppy']])\n",
       ">>> s\n",
       "0        [lion, elephant, zebra]\n",
       "1                [1.1, 2.2, 3.3]\n",
       "2                [cat, nan, dog]\n",
       "3               [cow, 4.5, goat]\n",
       "4    [duck, [swan, fish], guppy]\n",
       "dtype: object\n",
       "\n",
       "Join all lists using a '-'. The lists containing object(s) of types other\n",
       "than str will produce a NaN.\n",
       "\n",
       ">>> s.str.join('-')\n",
       "0    lion-elephant-zebra\n",
       "1                    NaN\n",
       "2                    NaN\n",
       "3                    NaN\n",
       "4                    NaN\n",
       "dtype: object\n",
       "\u001b[31mFile:\u001b[39m      ~/Documents/proj/effective-pandas-2/pandas-env/lib/python3.13/site-packages/pandas/core/strings/accessor.py\n",
       "\u001b[31mType:\u001b[39m      method"
      ]
     },
     "metadata": {},
     "output_type": "display_data"
    }
   ],
   "source": [
    "s.str.join?"
   ]
  },
  {
   "cell_type": "code",
   "execution_count": 12,
   "id": "34ba7405-35ac-440d-b591-666c48cf7820",
   "metadata": {},
   "outputs": [
    {
     "data": {
      "text/plain": [
       "\u001b[31mSignature:\u001b[39m s.str.slice_replace(start=\u001b[38;5;28;01mNone\u001b[39;00m, stop=\u001b[38;5;28;01mNone\u001b[39;00m, repl=\u001b[38;5;28;01mNone\u001b[39;00m)\n",
       "\u001b[31mDocstring:\u001b[39m\n",
       "Replace a positional slice of a string with another value.\n",
       "\n",
       "Parameters\n",
       "----------\n",
       "start : int, optional\n",
       "    Left index position to use for the slice. If not specified (None),\n",
       "    the slice is unbounded on the left, i.e. slice from the start\n",
       "    of the string.\n",
       "stop : int, optional\n",
       "    Right index position to use for the slice. If not specified (None),\n",
       "    the slice is unbounded on the right, i.e. slice until the\n",
       "    end of the string.\n",
       "repl : str, optional\n",
       "    String for replacement. If not specified (None), the sliced region\n",
       "    is replaced with an empty string.\n",
       "\n",
       "Returns\n",
       "-------\n",
       "Series or Index\n",
       "    Same type as the original object.\n",
       "\n",
       "See Also\n",
       "--------\n",
       "Series.str.slice : Just slicing without replacement.\n",
       "\n",
       "Examples\n",
       "--------\n",
       ">>> s = pd.Series(['a', 'ab', 'abc', 'abdc', 'abcde'])\n",
       ">>> s\n",
       "0        a\n",
       "1       ab\n",
       "2      abc\n",
       "3     abdc\n",
       "4    abcde\n",
       "dtype: object\n",
       "\n",
       "Specify just `start`, meaning replace `start` until the end of the\n",
       "string with `repl`.\n",
       "\n",
       ">>> s.str.slice_replace(1, repl='X')\n",
       "0    aX\n",
       "1    aX\n",
       "2    aX\n",
       "3    aX\n",
       "4    aX\n",
       "dtype: object\n",
       "\n",
       "Specify just `stop`, meaning the start of the string to `stop` is replaced\n",
       "with `repl`, and the rest of the string is included.\n",
       "\n",
       ">>> s.str.slice_replace(stop=2, repl='X')\n",
       "0       X\n",
       "1       X\n",
       "2      Xc\n",
       "3     Xdc\n",
       "4    Xcde\n",
       "dtype: object\n",
       "\n",
       "Specify `start` and `stop`, meaning the slice from `start` to `stop` is\n",
       "replaced with `repl`. Everything before or after `start` and `stop` is\n",
       "included as is.\n",
       "\n",
       ">>> s.str.slice_replace(start=1, stop=3, repl='X')\n",
       "0      aX\n",
       "1      aX\n",
       "2      aX\n",
       "3     aXc\n",
       "4    aXde\n",
       "dtype: object\n",
       "\u001b[31mFile:\u001b[39m      ~/Documents/proj/effective-pandas-2/pandas-env/lib/python3.13/site-packages/pandas/core/strings/accessor.py\n",
       "\u001b[31mType:\u001b[39m      method"
      ]
     },
     "metadata": {},
     "output_type": "display_data"
    }
   ],
   "source": [
    "s.str.slice_replace?"
   ]
  },
  {
   "cell_type": "code",
   "execution_count": 13,
   "id": "46ccaa29-97bc-4f39-ae2a-2dc2685923f1",
   "metadata": {},
   "outputs": [
    {
     "data": {
      "text/plain": [
       "90"
      ]
     },
     "execution_count": 13,
     "metadata": {},
     "output_type": "execute_result"
    }
   ],
   "source": [
    "# 3.\n",
    "import datetime as dt\n",
    "\n",
    "s = pd.Series([dt.datetime(2000, 1, 1), dt.datetime(2023, 12, 31)], dtype=\"timestamp[ns][pyarrow]\")\n",
    "len(dir(s.dt))"
   ]
  },
  {
   "cell_type": "code",
   "execution_count": 14,
   "id": "a62b029d-959e-4e07-b184-bf6783f8fcb4",
   "metadata": {},
   "outputs": [
    {
     "data": {
      "text/plain": [
       "\u001b[31mType:\u001b[39m        property\n",
       "\u001b[31mString form:\u001b[39m <property object at 0x7ca2747f6c50>\n",
       "\u001b[31mDocstring:\u001b[39m   <no docstring>"
      ]
     },
     "metadata": {},
     "output_type": "display_data"
    }
   ],
   "source": [
    "s.dt.nanosecond?"
   ]
  },
  {
   "cell_type": "code",
   "execution_count": 15,
   "id": "93f71bff-77aa-4099-a226-4902c998993f",
   "metadata": {},
   "outputs": [
    {
     "data": {
      "text/plain": [
       "\u001b[31mType:\u001b[39m        property\n",
       "\u001b[31mString form:\u001b[39m <property object at 0x7ca2747f6ca0>\n",
       "\u001b[31mDocstring:\u001b[39m   <no docstring>"
      ]
     },
     "metadata": {},
     "output_type": "display_data"
    }
   ],
   "source": [
    "s.dt.tz?"
   ]
  },
  {
   "cell_type": "code",
   "execution_count": 16,
   "id": "d1fac1ec-27c2-4ed5-95ab-7921c9e0eb49",
   "metadata": {},
   "outputs": [
    {
     "data": {
      "text/plain": [
       "\u001b[31mSignature:\u001b[39m s.dt.tz_localize(*args, **kwargs)\n",
       "\u001b[31mDocstring:\u001b[39m <no docstring>\n",
       "\u001b[31mFile:\u001b[39m      ~/Documents/proj/effective-pandas-2/pandas-env/lib/python3.13/site-packages/pandas/core/accessor.py\n",
       "\u001b[31mType:\u001b[39m      method"
      ]
     },
     "metadata": {},
     "output_type": "display_data"
    }
   ],
   "source": [
    "s.dt.tz_localize?"
   ]
  }
 ],
 "metadata": {
  "kernelspec": {
   "display_name": "Python 3 (ipykernel)",
   "language": "python",
   "name": "python3"
  },
  "language_info": {
   "codemirror_mode": {
    "name": "ipython",
    "version": 3
   },
   "file_extension": ".py",
   "mimetype": "text/x-python",
   "name": "python",
   "nbconvert_exporter": "python",
   "pygments_lexer": "ipython3",
   "version": "3.13.7"
  }
 },
 "nbformat": 4,
 "nbformat_minor": 5
}
