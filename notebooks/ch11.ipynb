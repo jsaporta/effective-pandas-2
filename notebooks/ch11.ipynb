{
 "cells": [
  {
   "cell_type": "markdown",
   "id": "2bc5c52c-d85b-4643-89ac-4501cbfc21b7",
   "metadata": {},
   "source": [
    "# Chapter 11"
   ]
  },
  {
   "cell_type": "code",
   "execution_count": 1,
   "id": "b81cd699-9199-4b71-85fb-6088a1449473",
   "metadata": {},
   "outputs": [],
   "source": [
    "import pandas as pd\n",
    "\n",
    "url = \"https://github.com/mattharrison/datasets/raw/master/data/vehicles.csv.zip\"\n",
    "df = pd.read_csv(url, dtype_backend=\"pyarrow\", engine=\"pyarrow\")\n",
    "\n",
    "cyl = df.cylinders"
   ]
  },
  {
   "cell_type": "code",
   "execution_count": 2,
   "id": "2a06b662-4206-4076-9861-7b44f77096fb",
   "metadata": {},
   "outputs": [
    {
     "data": {
      "text/plain": [
       "206"
      ]
     },
     "execution_count": 2,
     "metadata": {},
     "output_type": "execute_result"
    }
   ],
   "source": [
    "(cyl\n",
    " .isna()\n",
    " .sum()\n",
    ")"
   ]
  },
  {
   "cell_type": "code",
   "execution_count": 3,
   "id": "3ae92cc2-ed9b-42b3-85f3-af64b7d8d257",
   "metadata": {},
   "outputs": [
    {
     "data": {
      "text/plain": [
       "7138     Nissan\n",
       "7139     Toyota\n",
       "8143     Toyota\n",
       "8144       Ford\n",
       "8146       Ford\n",
       "          ...  \n",
       "34563     Tesla\n",
       "34564     Tesla\n",
       "34565     Tesla\n",
       "34566     Tesla\n",
       "34567     Tesla\n",
       "Name: make, Length: 206, dtype: string[pyarrow]"
      ]
     },
     "execution_count": 3,
     "metadata": {},
     "output_type": "execute_result"
    }
   ],
   "source": [
    "missing = cyl.isna()\n",
    "df.make.loc[missing]"
   ]
  },
  {
   "cell_type": "markdown",
   "id": "a44fb0fe-8fb8-4ecf-b854-b8bb69dd6a3d",
   "metadata": {},
   "source": [
    "What does interpolation do in cases where the index isn't simply a progression of integers? Does its behavior change?"
   ]
  },
  {
   "cell_type": "code",
   "execution_count": 4,
   "id": "53c184ae-33c2-4971-abaa-4aaa85773f85",
   "metadata": {},
   "outputs": [
    {
     "data": {
      "text/plain": [
       "fish     32.0\n",
       "bird     40.0\n",
       "cat      <NA>\n",
       "rat      42.0\n",
       "dog      39.0\n",
       "snake    32.0\n",
       "dtype: float[pyarrow]"
      ]
     },
     "execution_count": 4,
     "metadata": {},
     "output_type": "execute_result"
    }
   ],
   "source": [
    "index = [\"fish\", \"bird\", \"cat\", \"rat\", \"dog\", \"snake\"]\n",
    "vals = [32, 40, None, 42, 39, 32]\n",
    "s = pd.Series(vals, index=index, dtype=\"float[pyarrow]\")\n",
    "s"
   ]
  },
  {
   "cell_type": "code",
   "execution_count": 5,
   "id": "45912c98-7545-4acb-969c-995e70e2f272",
   "metadata": {},
   "outputs": [
    {
     "data": {
      "text/plain": [
       "fish     32.0\n",
       "bird     40.0\n",
       "cat      41.0\n",
       "rat      42.0\n",
       "dog      39.0\n",
       "snake    32.0\n",
       "dtype: float[pyarrow]"
      ]
     },
     "execution_count": 5,
     "metadata": {},
     "output_type": "execute_result"
    }
   ],
   "source": [
    "s.interpolate()"
   ]
  }
 ],
 "metadata": {
  "kernelspec": {
   "display_name": "Python 3 (ipykernel)",
   "language": "python",
   "name": "python3"
  },
  "language_info": {
   "codemirror_mode": {
    "name": "ipython",
    "version": 3
   },
   "file_extension": ".py",
   "mimetype": "text/x-python",
   "name": "python",
   "nbconvert_exporter": "python",
   "pygments_lexer": "ipython3",
   "version": "3.12.2"
  }
 },
 "nbformat": 4,
 "nbformat_minor": 5
}
