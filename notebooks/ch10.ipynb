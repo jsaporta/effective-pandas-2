{
 "cells": [
  {
   "cell_type": "markdown",
   "id": "db5f9770-eaa7-4c15-ad2d-aecfe73cd958",
   "metadata": {},
   "source": [
    "# Chapter 10"
   ]
  },
  {
   "cell_type": "code",
   "execution_count": 1,
   "id": "d5289aa3-fcf5-43f0-a54c-899d9f49b268",
   "metadata": {},
   "outputs": [],
   "source": [
    "import pandas as pd\n",
    "\n",
    "url = \"https://github.com/mattharrison/datasets/raw/master/data/vehicles.csv.zip\"\n",
    "df = pd.read_csv(url, dtype_backend=\"pyarrow\", engine=\"pyarrow\")\n",
    "\n",
    "city_mpg = df.city08\n",
    "highway_mpg = df.highway08"
   ]
  },
  {
   "cell_type": "markdown",
   "id": "fa615c2b-4fca-42ba-871d-0835f7488abe",
   "metadata": {},
   "source": [
    "## Exercises"
   ]
  },
  {
   "cell_type": "code",
   "execution_count": 2,
   "id": "baba6c34-4d01-43e2-be9e-3f342456e209",
   "metadata": {},
   "outputs": [
    {
     "name": "stdout",
     "output_type": "stream",
     "text": [
      "Original type: int64[pyarrow]\n"
     ]
    },
    {
     "data": {
      "text/plain": [
       "0    19\n",
       "1     9\n",
       "2    23\n",
       "3    10\n",
       "4    17\n",
       "Name: city08, dtype: int16[pyarrow]"
      ]
     },
     "execution_count": 2,
     "metadata": {},
     "output_type": "execute_result"
    }
   ],
   "source": [
    "# 1.\n",
    "print(\"Original type:\", city_mpg.dtype)\n",
    "city_mpg.astype(\"int16[pyarrow]\").head()"
   ]
  },
  {
   "cell_type": "code",
   "execution_count": 3,
   "id": "07d42b33-aeaf-4992-a892-70f5a1f4c3e0",
   "metadata": {},
   "outputs": [
    {
     "name": "stdout",
     "output_type": "stream",
     "text": [
      "329284\n",
      "87563\n"
     ]
    }
   ],
   "source": [
    "# 2.\n",
    "print(city_mpg.memory_usage())\n",
    "print(city_mpg.astype(\"int16[pyarrow]\").memory_usage())"
   ]
  },
  {
   "cell_type": "code",
   "execution_count": 4,
   "id": "b1453004",
   "metadata": {},
   "outputs": [],
   "source": [
    "# 3.\n",
    "import pyarrow as pa\n",
    "string_pa = pd.ArrowDtype(pa.string())"
   ]
  },
  {
   "cell_type": "code",
   "execution_count": 5,
   "id": "abad5fee-c26d-48ca-9e73-6e1d10481181",
   "metadata": {},
   "outputs": [
    {
     "data": {
      "text/plain": [
       "0        Alfa Romeo\n",
       "1           Ferrari\n",
       "2             Dodge\n",
       "3             Dodge\n",
       "4            Subaru\n",
       "            ...    \n",
       "41139        Subaru\n",
       "41140        Subaru\n",
       "41141        Subaru\n",
       "41142        Subaru\n",
       "41143        Subaru\n",
       "Name: make, Length: 41144, dtype: category\n",
       "Categories (136, string[pyarrow]): [AM General, ASC Incorporated, Acura, Alfa Romeo, ..., Volvo, Wallace Environmental, Yugo, smart]"
      ]
     },
     "execution_count": 5,
     "metadata": {},
     "output_type": "execute_result"
    }
   ],
   "source": [
    "# 4.\n",
    "df.make.astype(\"category\")"
   ]
  },
  {
   "cell_type": "code",
   "execution_count": 6,
   "id": "0b8e146c-54ae-4054-a483-0231ab4afab8",
   "metadata": {},
   "outputs": [
    {
     "name": "stdout",
     "output_type": "stream",
     "text": [
      "425767\n",
      "88701\n"
     ]
    }
   ],
   "source": [
    "# 5.\n",
    "print(df.make.memory_usage(deep=True))\n",
    "print(df.make.astype(\"category\").memory_usage(deep=True))"
   ]
  }
 ],
 "metadata": {
  "kernelspec": {
   "display_name": "pandas-env (3.13.7)",
   "language": "python",
   "name": "python3"
  },
  "language_info": {
   "codemirror_mode": {
    "name": "ipython",
    "version": 3
   },
   "file_extension": ".py",
   "mimetype": "text/x-python",
   "name": "python",
   "nbconvert_exporter": "python",
   "pygments_lexer": "ipython3",
   "version": "3.13.7"
  }
 },
 "nbformat": 4,
 "nbformat_minor": 5
}
